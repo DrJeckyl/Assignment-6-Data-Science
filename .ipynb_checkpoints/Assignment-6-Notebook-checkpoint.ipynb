{
 "cells": [
  {
   "cell_type": "code",
   "execution_count": 1,
   "metadata": {
    "collapsed": false
   },
   "outputs": [
    {
     "name": "stdout",
     "output_type": "stream",
     "text": [
      "Populating the interactive namespace from numpy and matplotlib\n"
     ]
    }
   ],
   "source": [
    "%pylab inline"
   ]
  },
  {
   "cell_type": "code",
   "execution_count": 2,
   "metadata": {
    "collapsed": true
   },
   "outputs": [],
   "source": [
    "import pandas as pd"
   ]
  },
  {
   "cell_type": "code",
   "execution_count": 4,
   "metadata": {
    "collapsed": false
   },
   "outputs": [
    {
     "name": "stderr",
     "output_type": "stream",
     "text": [
      "C:\\Users\\Ben\\Anaconda\\lib\\site-packages\\pandas\\io\\parsers.py:1170: DtypeWarning: Columns (9) have mixed types. Specify dtype option on import or set low_memory=False.\n",
      "  data = self._reader.read(nrows)\n"
     ]
    }
   ],
   "source": [
    "sanfran_df = pd.read_csv('sanfrancisco_incidents_summer_2014.csv')\n",
    "seattle_df = pd.read_csv('seattle_incidents_summer_2014.csv')"
   ]
  },
  {
   "cell_type": "code",
   "execution_count": 10,
   "metadata": {
    "collapsed": false
   },
   "outputs": [
    {
     "data": {
      "text/html": [
       "<div>\n",
       "<table border=\"1\" class=\"dataframe\">\n",
       "  <thead>\n",
       "    <tr style=\"text-align: right;\">\n",
       "      <th></th>\n",
       "      <th>IncidntNum</th>\n",
       "      <th>Category</th>\n",
       "      <th>Descript</th>\n",
       "      <th>DayOfWeek</th>\n",
       "      <th>Date</th>\n",
       "      <th>Time</th>\n",
       "      <th>PdDistrict</th>\n",
       "      <th>Resolution</th>\n",
       "      <th>Address</th>\n",
       "      <th>X</th>\n",
       "      <th>Y</th>\n",
       "      <th>Location</th>\n",
       "      <th>PdId</th>\n",
       "    </tr>\n",
       "  </thead>\n",
       "  <tbody>\n",
       "    <tr>\n",
       "      <th>0</th>\n",
       "      <td>140734311</td>\n",
       "      <td>ARSON</td>\n",
       "      <td>ARSON OF A VEHICLE</td>\n",
       "      <td>Sunday</td>\n",
       "      <td>08/31/2014</td>\n",
       "      <td>23:50</td>\n",
       "      <td>BAYVIEW</td>\n",
       "      <td>NONE</td>\n",
       "      <td>LOOMIS ST / INDUSTRIAL ST</td>\n",
       "      <td>-122.405647</td>\n",
       "      <td>37.738322</td>\n",
       "      <td>(37.7383221869053, -122.405646994567)</td>\n",
       "      <td>14073431126031</td>\n",
       "    </tr>\n",
       "    <tr>\n",
       "      <th>1</th>\n",
       "      <td>140736317</td>\n",
       "      <td>NON-CRIMINAL</td>\n",
       "      <td>LOST PROPERTY</td>\n",
       "      <td>Sunday</td>\n",
       "      <td>08/31/2014</td>\n",
       "      <td>23:45</td>\n",
       "      <td>MISSION</td>\n",
       "      <td>NONE</td>\n",
       "      <td>400 Block of CASTRO ST</td>\n",
       "      <td>-122.435012</td>\n",
       "      <td>37.761768</td>\n",
       "      <td>(37.7617677182954, -122.435012093789)</td>\n",
       "      <td>14073631771000</td>\n",
       "    </tr>\n",
       "    <tr>\n",
       "      <th>2</th>\n",
       "      <td>146177923</td>\n",
       "      <td>LARCENY/THEFT</td>\n",
       "      <td>GRAND THEFT FROM LOCKED AUTO</td>\n",
       "      <td>Sunday</td>\n",
       "      <td>08/31/2014</td>\n",
       "      <td>23:30</td>\n",
       "      <td>SOUTHERN</td>\n",
       "      <td>NONE</td>\n",
       "      <td>1000 Block of MISSION ST</td>\n",
       "      <td>-122.409795</td>\n",
       "      <td>37.780036</td>\n",
       "      <td>(37.7800356268394, -122.409795194505)</td>\n",
       "      <td>14617792306244</td>\n",
       "    </tr>\n",
       "    <tr>\n",
       "      <th>3</th>\n",
       "      <td>146177531</td>\n",
       "      <td>LARCENY/THEFT</td>\n",
       "      <td>GRAND THEFT FROM LOCKED AUTO</td>\n",
       "      <td>Sunday</td>\n",
       "      <td>08/31/2014</td>\n",
       "      <td>23:30</td>\n",
       "      <td>RICHMOND</td>\n",
       "      <td>NONE</td>\n",
       "      <td>FULTON ST / 26TH AV</td>\n",
       "      <td>-122.485263</td>\n",
       "      <td>37.772518</td>\n",
       "      <td>(37.7725176473142, -122.485262988324)</td>\n",
       "      <td>14617753106244</td>\n",
       "    </tr>\n",
       "    <tr>\n",
       "      <th>4</th>\n",
       "      <td>140734220</td>\n",
       "      <td>NON-CRIMINAL</td>\n",
       "      <td>FOUND PROPERTY</td>\n",
       "      <td>Sunday</td>\n",
       "      <td>08/31/2014</td>\n",
       "      <td>23:23</td>\n",
       "      <td>RICHMOND</td>\n",
       "      <td>NONE</td>\n",
       "      <td>800 Block of LA PLAYA ST</td>\n",
       "      <td>-122.509895</td>\n",
       "      <td>37.772313</td>\n",
       "      <td>(37.7723131976814, -122.509895418239)</td>\n",
       "      <td>14073422072000</td>\n",
       "    </tr>\n",
       "  </tbody>\n",
       "</table>\n",
       "</div>"
      ],
      "text/plain": [
       "   IncidntNum       Category                      Descript DayOfWeek  \\\n",
       "0   140734311          ARSON            ARSON OF A VEHICLE    Sunday   \n",
       "1   140736317   NON-CRIMINAL                 LOST PROPERTY    Sunday   \n",
       "2   146177923  LARCENY/THEFT  GRAND THEFT FROM LOCKED AUTO    Sunday   \n",
       "3   146177531  LARCENY/THEFT  GRAND THEFT FROM LOCKED AUTO    Sunday   \n",
       "4   140734220   NON-CRIMINAL                FOUND PROPERTY    Sunday   \n",
       "\n",
       "         Date   Time PdDistrict Resolution                    Address  \\\n",
       "0  08/31/2014  23:50    BAYVIEW       NONE  LOOMIS ST / INDUSTRIAL ST   \n",
       "1  08/31/2014  23:45    MISSION       NONE     400 Block of CASTRO ST   \n",
       "2  08/31/2014  23:30   SOUTHERN       NONE   1000 Block of MISSION ST   \n",
       "3  08/31/2014  23:30   RICHMOND       NONE        FULTON ST / 26TH AV   \n",
       "4  08/31/2014  23:23   RICHMOND       NONE   800 Block of LA PLAYA ST   \n",
       "\n",
       "            X          Y                               Location  \\\n",
       "0 -122.405647  37.738322  (37.7383221869053, -122.405646994567)   \n",
       "1 -122.435012  37.761768  (37.7617677182954, -122.435012093789)   \n",
       "2 -122.409795  37.780036  (37.7800356268394, -122.409795194505)   \n",
       "3 -122.485263  37.772518  (37.7725176473142, -122.485262988324)   \n",
       "4 -122.509895  37.772313  (37.7723131976814, -122.509895418239)   \n",
       "\n",
       "             PdId  \n",
       "0  14073431126031  \n",
       "1  14073631771000  \n",
       "2  14617792306244  \n",
       "3  14617753106244  \n",
       "4  14073422072000  "
      ]
     },
     "execution_count": 10,
     "metadata": {},
     "output_type": "execute_result"
    }
   ],
   "source": [
    "sanfran_df.head()"
   ]
  },
  {
   "cell_type": "code",
   "execution_count": 9,
   "metadata": {
    "collapsed": false
   },
   "outputs": [
    {
     "data": {
      "text/plain": [
       "array(['ARSON', 'NON-CRIMINAL', 'LARCENY/THEFT', 'DRUG/NARCOTIC',\n",
       "       'DRIVING UNDER THE INFLUENCE', 'OTHER OFFENSES', 'TRESPASS',\n",
       "       'VEHICLE THEFT', 'ASSAULT', 'FRAUD', 'SUSPICIOUS OCC',\n",
       "       'SECONDARY CODES', 'WEAPON LAWS', 'MISSING PERSON', 'WARRANTS',\n",
       "       'ROBBERY', 'DRUNKENNESS', 'PROSTITUTION', 'LIQUOR LAWS',\n",
       "       'KIDNAPPING', 'FAMILY OFFENSES', 'LOITERING', 'DISORDERLY CONDUCT',\n",
       "       'FORGERY/COUNTERFEITING', 'EMBEZZLEMENT', 'BURGLARY', 'SUICIDE',\n",
       "       'VANDALISM', 'STOLEN PROPERTY', 'RUNAWAY', 'GAMBLING', 'EXTORTION',\n",
       "       'PORNOGRAPHY/OBSCENE MAT', 'BRIBERY'], dtype=object)"
      ]
     },
     "execution_count": 9,
     "metadata": {},
     "output_type": "execute_result"
    }
   ],
   "source": [
    "sanfran_df['Category'].unique()"
   ]
  },
  {
   "cell_type": "code",
   "execution_count": 27,
   "metadata": {
    "collapsed": true
   },
   "outputs": [],
   "source": [
    "from datetime import datetime"
   ]
  },
  {
   "cell_type": "markdown",
   "metadata": {},
   "source": [
    "## Plot crime vs time of day"
   ]
  },
  {
   "cell_type": "code",
   "execution_count": 88,
   "metadata": {
    "collapsed": true
   },
   "outputs": [],
   "source": [
    "# Make a nice function to make a histogram vs time\n",
    "def time_hist(df_input, ttl, ylab, xlab):\n",
    "    # input is the dataframe, title, ylabel, xlabel\n",
    "    tstamps = [datetime.strptime(t, '%H:%M') for t in df_input['Time']]\n",
    "    ax = figure(figsize=(10,8)).gca()\n",
    "    _, _, patches = hist([date2num(t) for t in tstamps], bins=24)\n",
    "    # adding the labels for the x axis\n",
    "    tks = [num2date(p.get_x()) for p in patches] \n",
    "    xticks(tks,rotation=75)\n",
    "    # formatting the dates on the x axis\n",
    "    ax.xaxis.set_major_formatter(DateFormatter('%H:%M'))\n",
    "    ax.set_title(ttl, fontsize=18)\n",
    "    ax.set_ylabel(ylab)\n",
    "    ax.set_xlabel(xlab)"
   ]
  },
  {
   "cell_type": "code",
   "execution_count": 90,
   "metadata": {
    "collapsed": false
   },
   "outputs": [
    {
     "data": {
      "image/png": "[encoded data removed]",
      "text/plain": [
       "<matplotlib.figure.Figure at 0xdc11710>"
      ]
     },
     "metadata": {},
     "output_type": "display_data"
    }
   ],
   "source": [
    "time_hist(sanfran_df, \n",
    "          'Incidence of Crime in Sanfransisco by Time of Day', \n",
    "          'Number of Crimes', \n",
    "          'Time of Day')"
   ]
  },
  {
   "cell_type": "markdown",
   "metadata": {},
   "source": [
    "## Find the most common crime during the evening"
   ]
  },
  {
   "cell_type": "code",
   "execution_count": 61,
   "metadata": {
    "collapsed": false
   },
   "outputs": [
    {
     "data": {
      "text/html": [
       "<div>\n",
       "<table border=\"1\" class=\"dataframe\">\n",
       "  <thead>\n",
       "    <tr style=\"text-align: right;\">\n",
       "      <th></th>\n",
       "      <th>Category</th>\n",
       "      <th>Time</th>\n",
       "    </tr>\n",
       "  </thead>\n",
       "  <tbody>\n",
       "    <tr>\n",
       "      <th>0</th>\n",
       "      <td>ARSON</td>\n",
       "      <td>23:50</td>\n",
       "    </tr>\n",
       "    <tr>\n",
       "      <th>1</th>\n",
       "      <td>NON-CRIMINAL</td>\n",
       "      <td>23:45</td>\n",
       "    </tr>\n",
       "    <tr>\n",
       "      <th>2</th>\n",
       "      <td>LARCENY/THEFT</td>\n",
       "      <td>23:30</td>\n",
       "    </tr>\n",
       "    <tr>\n",
       "      <th>3</th>\n",
       "      <td>LARCENY/THEFT</td>\n",
       "      <td>23:30</td>\n",
       "    </tr>\n",
       "    <tr>\n",
       "      <th>4</th>\n",
       "      <td>NON-CRIMINAL</td>\n",
       "      <td>23:23</td>\n",
       "    </tr>\n",
       "  </tbody>\n",
       "</table>\n",
       "</div>"
      ],
      "text/plain": [
       "        Category   Time\n",
       "0          ARSON  23:50\n",
       "1   NON-CRIMINAL  23:45\n",
       "2  LARCENY/THEFT  23:30\n",
       "3  LARCENY/THEFT  23:30\n",
       "4   NON-CRIMINAL  23:23"
      ]
     },
     "execution_count": 61,
     "metadata": {},
     "output_type": "execute_result"
    }
   ],
   "source": [
    "evening_crimes = sanfran_df[(sanfran_df['Time'] > '16:00') & (sanfran_df['Time'] < '23:59')][['Category', 'Time']]\n",
    "evening_crimes.head()"
   ]
  },
  {
   "cell_type": "code",
   "execution_count": 87,
   "metadata": {
    "collapsed": false
   },
   "outputs": [
    {
     "data": {
      "text/plain": [
       "LARCENY/THEFT                  4820\n",
       "OTHER OFFENSES                 1450\n",
       "ASSAULT                        1217\n",
       "NON-CRIMINAL                   1119\n",
       "VEHICLE THEFT                  1087\n",
       "WARRANTS                        785\n",
       "DRUG/NARCOTIC                   599\n",
       "SUSPICIOUS OCC                  518\n",
       "MISSING PERSON                  390\n",
       "SECONDARY CODES                 186\n",
       "WEAPON LAWS                     167\n",
       "ROBBERY                         133\n",
       "TRESPASS                         96\n",
       "DRUNKENNESS                      76\n",
       "FRAUD                            71\n",
       "PROSTITUTION                     66\n",
       "DRIVING UNDER THE INFLUENCE      51\n",
       "KIDNAPPING                       44\n",
       "RUNAWAY                          26\n",
       "ARSON                            26\n",
       "LIQUOR LAWS                      24\n",
       "DISORDERLY CONDUCT               11\n",
       "VANDALISM                         7\n",
       "FORGERY/COUNTERFEITING            7\n",
       "FAMILY OFFENSES                   4\n",
       "STOLEN PROPERTY                   3\n",
       "SUICIDE                           3\n",
       "EMBEZZLEMENT                      2\n",
       "LOITERING                         1\n",
       "EXTORTION                         1\n",
       "dtype: int64"
      ]
     },
     "execution_count": 87,
     "metadata": {},
     "output_type": "execute_result"
    }
   ],
   "source": [
    "evening_crimes['Category'].value_counts()"
   ]
  },
  {
   "cell_type": "markdown",
   "metadata": {},
   "source": [
    "## Plot a histogram of Robbery vs time"
   ]
  },
  {
   "cell_type": "code",
   "execution_count": 97,
   "metadata": {
    "collapsed": false
   },
   "outputs": [
    {
     "data": {
      "image/png": "[encoded data removed]",
      "text/plain": [
       "<matplotlib.figure.Figure at 0xe105cf8>"
      ]
     },
     "metadata": {},
     "output_type": "display_data"
    }
   ],
   "source": [
    "robbery = sanfran_df[sanfran_df['Category']=='ROBBERY']\n",
    "time_hist(robbery, 'Number of Robberies by Time of Day', 'Number of Robberies', 'Time of Day')"
   ]
  },
  {
   "cell_type": "markdown",
   "metadata": {},
   "source": [
    "## How do incidents vary by neighbourhood?"
   ]
  },
  {
   "cell_type": "code",
   "execution_count": 99,
   "metadata": {
    "collapsed": false
   },
   "outputs": [
    {
     "data": {
      "text/plain": [
       "SOUTHERN      5739\n",
       "MISSION       3700\n",
       "NORTHERN      3589\n",
       "CENTRAL       3513\n",
       "BAYVIEW       2725\n",
       "INGLESIDE     2378\n",
       "TENDERLOIN    2257\n",
       "TARAVAL       1853\n",
       "PARK          1693\n",
       "RICHMOND      1546\n",
       "dtype: int64"
      ]
     },
     "execution_count": 99,
     "metadata": {},
     "output_type": "execute_result"
    }
   ],
   "source": [
    "sanfran_df['PdDistrict'].value_counts()"
   ]
  },
  {
   "cell_type": "code",
   "execution_count": 100,
   "metadata": {
    "collapsed": false
   },
   "outputs": [
    {
     "name": "stderr",
     "output_type": "stream",
     "text": [
      ":0: FutureWarning: IPython widgets are experimental and may change in the future.\n"
     ]
    },
    {
     "data": {
      "application/javascript": [
       "\n",
       "            IPython.load_extensions('gmaps_js/heatmap_view')\n",
       "            "
      ],
      "text/plain": [
       "<IPython.core.display.Javascript object>"
      ]
     },
     "metadata": {},
     "output_type": "display_data"
    }
   ],
   "source": [
    "import gmaps"
   ]
  },
  {
   "cell_type": "code",
   "execution_count": 101,
   "metadata": {
    "collapsed": true
   },
   "outputs": [],
   "source": [
    "data = gmaps.datasets.load_dataset('taxi_rides')"
   ]
  },
  {
   "cell_type": "code",
   "execution_count": 108,
   "metadata": {
    "collapsed": false
   },
   "outputs": [],
   "source": [
    "map = gmaps.heatmap(data)\n",
    "gmaps.display(map)"
   ]
  },
  {
   "cell_type": "code",
   "execution_count": null,
   "metadata": {
    "collapsed": false
   },
   "outputs": [],
   "source": []
  },
  {
   "cell_type": "code",
   "execution_count": null,
   "metadata": {
    "collapsed": true
   },
   "outputs": [],
   "source": []
  }
 ],
 "metadata": {
  "kernelspec": {
   "display_name": "Python 2",
   "language": "python",
   "name": "python2"
  },
  "language_info": {
   "codemirror_mode": {
    "name": "ipython",
    "version": 2
   },
   "file_extension": ".py",
   "mimetype": "text/x-python",
   "name": "python",
   "nbconvert_exporter": "python",
   "pygments_lexer": "ipython2",
   "version": "2.7.10"
  }
 },
 "nbformat": 4,
 "nbformat_minor": 0
}
